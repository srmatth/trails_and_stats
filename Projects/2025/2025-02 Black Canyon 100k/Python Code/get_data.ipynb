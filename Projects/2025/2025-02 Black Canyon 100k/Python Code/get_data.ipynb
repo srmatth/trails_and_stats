{
 "cells": [
  {
   "cell_type": "markdown",
   "metadata": {},
   "source": [
    "# Get the Necessary Data\n",
    "\n",
    "## Setup and Functions"
   ]
  },
  {
   "cell_type": "code",
   "execution_count": 1,
   "metadata": {},
   "outputs": [],
   "source": [
    "from selenium import webdriver\n",
    "from selenium.webdriver.common.by import By\n",
    "from selenium.webdriver.support.wait import WebDriverWait\n",
    "from selenium.webdriver.support import expected_conditions as EC\n",
    "import pandas as pd\n",
    "\n",
    "def ultrasignup_scraper(url):\n",
    "    \"\"\"\n",
    "    Scrape the Ultrasignup website\n",
    "    \"\"\"\n",
    "    # Set up Selenium WebDriver (e.g., using Chrome)\n",
    "    options = webdriver.ChromeOptions()\n",
    "    options.add_argument(\"--headless\")  # Run in headless mode (no UI)\n",
    "    \n",
    "    # Initiate the driver\n",
    "    driver = webdriver.Chrome(options=options)\n",
    "\n",
    "    # Open the URL and wait for the table to load\n",
    "    driver.get(url)\n",
    "    wait = WebDriverWait(driver, 20)  # Timeout after 20 seconds\n",
    "    table_element = wait.until(EC.presence_of_element_located((By.ID, \"list\")))\n",
    "\n",
    "    # Find the table element and extract the data\n",
    "    table = driver.find_element(By.ID, \"list\")\n",
    "\n",
    "    rows = table.find_elements(By.TAG_NAME, \"tr\")\n",
    "    data = []\n",
    "    for row in rows:\n",
    "        cols = row.find_elements(By.TAG_NAME, \"td\")\n",
    "        data.append([col.text for col in cols])\n",
    "\n",
    "    # save the data to a pandas dataframe and close the driver\n",
    "    df = pd.DataFrame(data) \n",
    "    driver.quit()\n",
    "\n",
    "    # Clean the dataframe\n",
    "    df = df.iloc[2:, 1:10]\n",
    "    df.columns = ['Position', 'First Name', 'Last Name', 'City', 'State', 'Age', 'Gender', 'Division Place', 'Time']\n",
    "\n",
    "    return df"
   ]
  },
  {
   "cell_type": "markdown",
   "metadata": {},
   "source": [
    "## Data Creation"
   ]
  },
  {
   "cell_type": "code",
   "execution_count": 2,
   "metadata": {},
   "outputs": [],
   "source": [
    "## Get all the black canyon race results\n",
    "\n",
    "races = {\n",
    "    \"2014\": \"https://ultrasignup.com/results_event.aspx?did=24355\",\n",
    "    \"2015\": \"https://ultrasignup.com/results_event.aspx?did=29244\",\n",
    "    \"2016\": \"https://ultrasignup.com/results_event.aspx?did=34087\",\n",
    "    \"2017\": \"https://ultrasignup.com/results_event.aspx?did=38965\",\n",
    "    \"2018\": \"https://ultrasignup.com/results_event.aspx?did=48278\",\n",
    "    \"2019\": \"https://ultrasignup.com/results_event.aspx?did=57827\",\n",
    "    \"2020\": \"https://ultrasignup.com/results_event.aspx?did=67039\",\n",
    "    \"2021\": \"https://ultrasignup.com/results_event.aspx?did=77199\",\n",
    "    \"2022\": \"https://ultrasignup.com/results_event.aspx?did=84317\",\n",
    "    \"2023\": \"https://ultrasignup.com/results_event.aspx?did=93392\",\n",
    "    \"2024\": \"https://ultrasignup.com/results_event.aspx?did=104108\"\n",
    "}\n",
    "\n",
    "for year, url in races.items():\n",
    "    results = ultrasignup_scraper(url)\n",
    "    results.to_csv(f'data/black_canyon_100k_{year}.csv', index=False)"
   ]
  },
  {
   "cell_type": "code",
   "execution_count": 3,
   "metadata": {},
   "outputs": [],
   "source": [
    "results = ultrasignup_scraper(\"https://ultrasignup.com/results_event.aspx?did=115592\")"
   ]
  },
  {
   "cell_type": "code",
   "execution_count": 4,
   "metadata": {},
   "outputs": [],
   "source": [
    "results.to_csv('data/black_canyon_100k_2025.csv', index=False)"
   ]
  },
  {
   "cell_type": "markdown",
   "metadata": {},
   "source": []
  }
 ],
 "metadata": {
  "kernelspec": {
   "display_name": ".conda",
   "language": "python",
   "name": "python3"
  },
  "language_info": {
   "codemirror_mode": {
    "name": "ipython",
    "version": 3
   },
   "file_extension": ".py",
   "mimetype": "text/x-python",
   "name": "python",
   "nbconvert_exporter": "python",
   "pygments_lexer": "ipython3",
   "version": "3.11.11"
  }
 },
 "nbformat": 4,
 "nbformat_minor": 2
}
